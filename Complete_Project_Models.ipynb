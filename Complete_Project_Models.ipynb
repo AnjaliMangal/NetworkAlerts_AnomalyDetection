{
 "cells": [
  {
   "cell_type": "code",
   "execution_count": 2,
   "metadata": {},
   "outputs": [],
   "source": [
    "import numpy as np\n",
    "import pandas as pd\n",
    "import random\n",
    "import os\n",
    "import tqdm.notebook as tqdm\n",
    "from tqdm import tqdm_notebook as tqdm\n",
    "import warnings\n",
    "warnings.filterwarnings('ignore')\n",
    "import zipfile\n",
    "import matplotlib.pyplot as plt\n",
    "import seaborn as sns\n",
    "from sklearn import preprocessing\n",
    "\n",
    "#from xgboost import XGBClassifier\n",
    "from sklearn.model_selection import RandomizedSearchCV\n",
    "from sklearn.model_selection import train_test_split\n",
    "from sklearn.ensemble import RandomForestClassifier\n",
    "from sklearn.feature_selection import SelectFromModel\n",
    "from sklearn.ensemble import RandomForestClassifier\n",
    "from sklearn.linear_model import LogisticRegression\n",
    "\n",
    "from sklearn.metrics import precision_score\n",
    "from sklearn.metrics import accuracy_score\n",
    "from sklearn.metrics import recall_score\n",
    "from sklearn.metrics import plot_confusion_matrix\n",
    "from sklearn.metrics import classification_report\n",
    "\n",
    "from sklearn.tree import DecisionTreeClassifier\n",
    "from sklearn.metrics import log_loss\n",
    "#from prettytable import PrettyTable\n",
    "import pickle\n",
    "%matplotlib inline"
   ]
  },
  {
   "cell_type": "code",
   "execution_count": 3,
   "metadata": {},
   "outputs": [],
   "source": [
    "datafile =  \"Project_final_clean_data.csv\"\n",
    "df = pd.read_csv(datafile, index_col=False)"
   ]
  },
  {
   "cell_type": "code",
   "execution_count": 4,
   "metadata": {},
   "outputs": [
    {
     "name": "stdout",
     "output_type": "stream",
     "text": [
      "Dataframe shape is  (7616509, 46)\n"
     ]
    },
    {
     "data": {
      "text/html": [
       "<div>\n",
       "<style scoped>\n",
       "    .dataframe tbody tr th:only-of-type {\n",
       "        vertical-align: middle;\n",
       "    }\n",
       "\n",
       "    .dataframe tbody tr th {\n",
       "        vertical-align: top;\n",
       "    }\n",
       "\n",
       "    .dataframe thead th {\n",
       "        text-align: right;\n",
       "    }\n",
       "</style>\n",
       "<table border=\"1\" class=\"dataframe\">\n",
       "  <thead>\n",
       "    <tr style=\"text-align: right;\">\n",
       "      <th></th>\n",
       "      <th>Unnamed: 0</th>\n",
       "      <th>Src IP</th>\n",
       "      <th>Src Port</th>\n",
       "      <th>Dst IP</th>\n",
       "      <th>Protocol</th>\n",
       "      <th>Flow Duration</th>\n",
       "      <th>Tot Fwd Pkts</th>\n",
       "      <th>Tot Bwd Pkts</th>\n",
       "      <th>Fwd Pkt Len Max</th>\n",
       "      <th>Fwd Pkt Len Min</th>\n",
       "      <th>...</th>\n",
       "      <th>CWE Flag Count</th>\n",
       "      <th>ECE Flag Cnt</th>\n",
       "      <th>Down/Up Ratio</th>\n",
       "      <th>Init Fwd Win Byts</th>\n",
       "      <th>Init Bwd Win Byts</th>\n",
       "      <th>Fwd Seg Size Min</th>\n",
       "      <th>Active Mean</th>\n",
       "      <th>Active Std</th>\n",
       "      <th>Idle Std</th>\n",
       "      <th>y</th>\n",
       "    </tr>\n",
       "  </thead>\n",
       "  <tbody>\n",
       "    <tr>\n",
       "      <th>0</th>\n",
       "      <td>0</td>\n",
       "      <td>1821919320</td>\n",
       "      <td>37882</td>\n",
       "      <td>172316925</td>\n",
       "      <td>6</td>\n",
       "      <td>8660</td>\n",
       "      <td>1</td>\n",
       "      <td>1</td>\n",
       "      <td>0.0</td>\n",
       "      <td>0.0</td>\n",
       "      <td>...</td>\n",
       "      <td>0</td>\n",
       "      <td>0</td>\n",
       "      <td>1.0</td>\n",
       "      <td>-1</td>\n",
       "      <td>225</td>\n",
       "      <td>0</td>\n",
       "      <td>0.0</td>\n",
       "      <td>0.0</td>\n",
       "      <td>0.0</td>\n",
       "      <td>1</td>\n",
       "    </tr>\n",
       "    <tr>\n",
       "      <th>1</th>\n",
       "      <td>1</td>\n",
       "      <td>172316928</td>\n",
       "      <td>80</td>\n",
       "      <td>1821991</td>\n",
       "      <td>6</td>\n",
       "      <td>5829</td>\n",
       "      <td>4</td>\n",
       "      <td>3</td>\n",
       "      <td>935.0</td>\n",
       "      <td>0.0</td>\n",
       "      <td>...</td>\n",
       "      <td>1</td>\n",
       "      <td>1</td>\n",
       "      <td>0.0</td>\n",
       "      <td>-1</td>\n",
       "      <td>32768</td>\n",
       "      <td>0</td>\n",
       "      <td>0.0</td>\n",
       "      <td>0.0</td>\n",
       "      <td>0.0</td>\n",
       "      <td>1</td>\n",
       "    </tr>\n",
       "    <tr>\n",
       "      <th>2</th>\n",
       "      <td>2</td>\n",
       "      <td>5214136135</td>\n",
       "      <td>63095</td>\n",
       "      <td>172316928</td>\n",
       "      <td>6</td>\n",
       "      <td>3396</td>\n",
       "      <td>1</td>\n",
       "      <td>1</td>\n",
       "      <td>0.0</td>\n",
       "      <td>0.0</td>\n",
       "      <td>...</td>\n",
       "      <td>0</td>\n",
       "      <td>0</td>\n",
       "      <td>1.0</td>\n",
       "      <td>-1</td>\n",
       "      <td>32738</td>\n",
       "      <td>0</td>\n",
       "      <td>0.0</td>\n",
       "      <td>0.0</td>\n",
       "      <td>0.0</td>\n",
       "      <td>1</td>\n",
       "    </tr>\n",
       "    <tr>\n",
       "      <th>3</th>\n",
       "      <td>3</td>\n",
       "      <td>18216200189</td>\n",
       "      <td>52341</td>\n",
       "      <td>172316928</td>\n",
       "      <td>6</td>\n",
       "      <td>2390</td>\n",
       "      <td>1</td>\n",
       "      <td>1</td>\n",
       "      <td>0.0</td>\n",
       "      <td>0.0</td>\n",
       "      <td>...</td>\n",
       "      <td>0</td>\n",
       "      <td>0</td>\n",
       "      <td>1.0</td>\n",
       "      <td>-1</td>\n",
       "      <td>32738</td>\n",
       "      <td>0</td>\n",
       "      <td>0.0</td>\n",
       "      <td>0.0</td>\n",
       "      <td>0.0</td>\n",
       "      <td>1</td>\n",
       "    </tr>\n",
       "    <tr>\n",
       "      <th>4</th>\n",
       "      <td>4</td>\n",
       "      <td>172316928</td>\n",
       "      <td>80</td>\n",
       "      <td>1821855126</td>\n",
       "      <td>6</td>\n",
       "      <td>17362</td>\n",
       "      <td>4</td>\n",
       "      <td>3</td>\n",
       "      <td>935.0</td>\n",
       "      <td>0.0</td>\n",
       "      <td>...</td>\n",
       "      <td>1</td>\n",
       "      <td>1</td>\n",
       "      <td>0.0</td>\n",
       "      <td>-1</td>\n",
       "      <td>32768</td>\n",
       "      <td>0</td>\n",
       "      <td>0.0</td>\n",
       "      <td>0.0</td>\n",
       "      <td>0.0</td>\n",
       "      <td>1</td>\n",
       "    </tr>\n",
       "  </tbody>\n",
       "</table>\n",
       "<p>5 rows × 46 columns</p>\n",
       "</div>"
      ],
      "text/plain": [
       "   Unnamed: 0       Src IP  Src Port      Dst IP  Protocol  Flow Duration  \\\n",
       "0           0   1821919320     37882   172316925         6           8660   \n",
       "1           1    172316928        80     1821991         6           5829   \n",
       "2           2   5214136135     63095   172316928         6           3396   \n",
       "3           3  18216200189     52341   172316928         6           2390   \n",
       "4           4    172316928        80  1821855126         6          17362   \n",
       "\n",
       "   Tot Fwd Pkts  Tot Bwd Pkts  Fwd Pkt Len Max  Fwd Pkt Len Min  ...  \\\n",
       "0             1             1              0.0              0.0  ...   \n",
       "1             4             3            935.0              0.0  ...   \n",
       "2             1             1              0.0              0.0  ...   \n",
       "3             1             1              0.0              0.0  ...   \n",
       "4             4             3            935.0              0.0  ...   \n",
       "\n",
       "   CWE Flag Count  ECE Flag Cnt  Down/Up Ratio  Init Fwd Win Byts  \\\n",
       "0               0             0            1.0                 -1   \n",
       "1               1             1            0.0                 -1   \n",
       "2               0             0            1.0                 -1   \n",
       "3               0             0            1.0                 -1   \n",
       "4               1             1            0.0                 -1   \n",
       "\n",
       "   Init Bwd Win Byts  Fwd Seg Size Min  Active Mean  Active Std  Idle Std  y  \n",
       "0                225                 0          0.0         0.0       0.0  1  \n",
       "1              32768                 0          0.0         0.0       0.0  1  \n",
       "2              32738                 0          0.0         0.0       0.0  1  \n",
       "3              32738                 0          0.0         0.0       0.0  1  \n",
       "4              32768                 0          0.0         0.0       0.0  1  \n",
       "\n",
       "[5 rows x 46 columns]"
      ]
     },
     "execution_count": 4,
     "metadata": {},
     "output_type": "execute_result"
    }
   ],
   "source": [
    "print('Dataframe shape is ',df.shape)\n",
    "df.head()"
   ]
  },
  {
   "cell_type": "code",
   "execution_count": 5,
   "metadata": {},
   "outputs": [
    {
     "name": "stdout",
     "output_type": "stream",
     "text": [
      "Dataframe shape is  (7616509, 45)\n"
     ]
    },
    {
     "data": {
      "text/plain": [
       "Index(['Src IP', 'Src Port', 'Dst IP', 'Protocol', 'Flow Duration',\n",
       "       'Tot Fwd Pkts', 'Tot Bwd Pkts', 'Fwd Pkt Len Max', 'Fwd Pkt Len Min',\n",
       "       'Fwd Pkt Len Mean', 'Bwd Pkt Len Max', 'Bwd Pkt Len Min',\n",
       "       'Bwd Pkt Len Mean', 'Flow Byts/s', 'Flow Pkts/s', 'Flow IAT Mean',\n",
       "       'Flow IAT Std', 'Flow IAT Max', 'Fwd IAT Std', 'Bwd IAT Tot',\n",
       "       'Bwd IAT Mean', 'Bwd IAT Std', 'Bwd IAT Max', 'Bwd IAT Min',\n",
       "       'Fwd PSH Flags', 'Bwd PSH Flags', 'Bwd Pkts/s', 'Pkt Len Min',\n",
       "       'Pkt Len Var', 'FIN Flag Cnt', 'SYN Flag Cnt', 'RST Flag Cnt',\n",
       "       'PSH Flag Cnt', 'ACK Flag Cnt', 'URG Flag Cnt', 'CWE Flag Count',\n",
       "       'ECE Flag Cnt', 'Down/Up Ratio', 'Init Fwd Win Byts',\n",
       "       'Init Bwd Win Byts', 'Fwd Seg Size Min', 'Active Mean', 'Active Std',\n",
       "       'Idle Std', 'y'],\n",
       "      dtype='object')"
      ]
     },
     "execution_count": 5,
     "metadata": {},
     "output_type": "execute_result"
    }
   ],
   "source": [
    "##get rid of unnamed column\n",
    "\n",
    "df.drop('Unnamed: 0',axis=1,inplace=True)\n",
    "print('Dataframe shape is ',df.shape)\n",
    "\n",
    "df.columns"
   ]
  },
  {
   "cell_type": "code",
   "execution_count": 6,
   "metadata": {},
   "outputs": [
    {
     "name": "stdout",
     "output_type": "stream",
     "text": [
      "34\n",
      "Non Categorical columns:\n",
      " ['Src IP' 'Src Port' 'Dst IP' 'Protocol' 'Flow Duration' 'Tot Fwd Pkts'\n",
      " 'Tot Bwd Pkts' 'Fwd Pkt Len Max' 'Fwd Pkt Len Min' 'Fwd Pkt Len Mean'\n",
      " 'Bwd Pkt Len Max' 'Bwd Pkt Len Min' 'Bwd Pkt Len Mean' 'Flow Byts/s'\n",
      " 'Flow Pkts/s' 'Flow IAT Mean' 'Flow IAT Std' 'Flow IAT Max' 'Fwd IAT Std'\n",
      " 'Bwd IAT Tot' 'Bwd IAT Mean' 'Bwd IAT Std' 'Bwd IAT Max' 'Bwd IAT Min'\n",
      " 'Bwd Pkts/s' 'Pkt Len Min' 'Pkt Len Var' 'Down/Up Ratio'\n",
      " 'Init Fwd Win Byts' 'Init Bwd Win Byts' 'Fwd Seg Size Min' 'Active Mean'\n",
      " 'Active Std' 'Idle Std'] \n",
      "\n"
     ]
    }
   ],
   "source": [
    "#Lets find not categorical columns for data normalization\n",
    "non_cat_col = []\n",
    "\n",
    "for col in df.columns:\n",
    "    if len(df[col].unique())> 2  :\n",
    "        non_cat_col.append(col)\n",
    "        \n",
    "print(len(non_cat_col))\n",
    "print('Non Categorical columns:\\n',np.array(non_cat_col),'\\n')"
   ]
  },
  {
   "cell_type": "raw",
   "metadata": {},
   "source": [
    "## Split data in test and train set for 80/20 ratio"
   ]
  },
  {
   "cell_type": "code",
   "execution_count": 84,
   "metadata": {},
   "outputs": [
    {
     "name": "stdout",
     "output_type": "stream",
     "text": [
      "X_train shape: (6093207, 44)\n",
      "X_test shape: (1523302, 44)\n",
      "y_train shape: (6093207,)\n",
      "y_test shape: (1523302,)\n"
     ]
    }
   ],
   "source": [
    "label = df['y']\n",
    "X_train, X_test, y_train, y_test = train_test_split(df.drop(['y'],axis=1),label,test_size=0.2,random_state=42,stratify=label)\n",
    "print('X_train shape:',X_train.shape)\n",
    "print('X_test shape:',X_test.shape)\n",
    "print('y_train shape:',y_train.shape)\n",
    "print('y_test shape:',y_test.shape)"
   ]
  },
  {
   "cell_type": "code",
   "execution_count": 85,
   "metadata": {},
   "outputs": [],
   "source": [
    "##Data Normalization for non categorial columns \n",
    "\n",
    "for col in non_cat_col:\n",
    "    minimum = X_train[col].min()\n",
    "    maximum = X_train[col].max()\n",
    "    X_train[col] = (X_train[col] - minimum)/(maximum - minimum)\n",
    "    X_test[col] = (X_test[col] - minimum)/(maximum - minimum)"
   ]
  },
  {
   "cell_type": "code",
   "execution_count": 86,
   "metadata": {},
   "outputs": [
    {
     "data": {
      "text/html": [
       "<div>\n",
       "<style scoped>\n",
       "    .dataframe tbody tr th:only-of-type {\n",
       "        vertical-align: middle;\n",
       "    }\n",
       "\n",
       "    .dataframe tbody tr th {\n",
       "        vertical-align: top;\n",
       "    }\n",
       "\n",
       "    .dataframe thead th {\n",
       "        text-align: right;\n",
       "    }\n",
       "</style>\n",
       "<table border=\"1\" class=\"dataframe\">\n",
       "  <thead>\n",
       "    <tr style=\"text-align: right;\">\n",
       "      <th></th>\n",
       "      <th>Src IP</th>\n",
       "      <th>Src Port</th>\n",
       "      <th>Dst IP</th>\n",
       "      <th>Protocol</th>\n",
       "      <th>Flow Duration</th>\n",
       "      <th>Tot Fwd Pkts</th>\n",
       "      <th>Tot Bwd Pkts</th>\n",
       "      <th>Fwd Pkt Len Max</th>\n",
       "      <th>Fwd Pkt Len Min</th>\n",
       "      <th>Fwd Pkt Len Mean</th>\n",
       "      <th>...</th>\n",
       "      <th>URG Flag Cnt</th>\n",
       "      <th>CWE Flag Count</th>\n",
       "      <th>ECE Flag Cnt</th>\n",
       "      <th>Down/Up Ratio</th>\n",
       "      <th>Init Fwd Win Byts</th>\n",
       "      <th>Init Bwd Win Byts</th>\n",
       "      <th>Fwd Seg Size Min</th>\n",
       "      <th>Active Mean</th>\n",
       "      <th>Active Std</th>\n",
       "      <th>Idle Std</th>\n",
       "    </tr>\n",
       "  </thead>\n",
       "  <tbody>\n",
       "    <tr>\n",
       "      <th>1994346</th>\n",
       "      <td>0.007718</td>\n",
       "      <td>0.753155</td>\n",
       "      <td>0.663078</td>\n",
       "      <td>0.352941</td>\n",
       "      <td>0.458127</td>\n",
       "      <td>0.000008</td>\n",
       "      <td>0.000000</td>\n",
       "      <td>0.000000</td>\n",
       "      <td>0.000000</td>\n",
       "      <td>0.000000</td>\n",
       "      <td>...</td>\n",
       "      <td>0</td>\n",
       "      <td>0</td>\n",
       "      <td>0</td>\n",
       "      <td>0.000000</td>\n",
       "      <td>0.034180</td>\n",
       "      <td>0.000000</td>\n",
       "      <td>0.416667</td>\n",
       "      <td>0.0</td>\n",
       "      <td>0.0</td>\n",
       "      <td>0.0</td>\n",
       "    </tr>\n",
       "    <tr>\n",
       "      <th>5837974</th>\n",
       "      <td>0.000772</td>\n",
       "      <td>0.990326</td>\n",
       "      <td>0.000007</td>\n",
       "      <td>1.000000</td>\n",
       "      <td>0.000006</td>\n",
       "      <td>0.000004</td>\n",
       "      <td>0.000003</td>\n",
       "      <td>0.001670</td>\n",
       "      <td>0.026495</td>\n",
       "      <td>0.009149</td>\n",
       "      <td>...</td>\n",
       "      <td>0</td>\n",
       "      <td>0</td>\n",
       "      <td>0</td>\n",
       "      <td>0.003289</td>\n",
       "      <td>0.000000</td>\n",
       "      <td>0.000000</td>\n",
       "      <td>0.166667</td>\n",
       "      <td>0.0</td>\n",
       "      <td>0.0</td>\n",
       "      <td>0.0</td>\n",
       "    </tr>\n",
       "    <tr>\n",
       "      <th>1396364</th>\n",
       "      <td>0.000028</td>\n",
       "      <td>0.750896</td>\n",
       "      <td>0.006751</td>\n",
       "      <td>0.352941</td>\n",
       "      <td>0.000866</td>\n",
       "      <td>0.000012</td>\n",
       "      <td>0.000003</td>\n",
       "      <td>0.000000</td>\n",
       "      <td>0.000000</td>\n",
       "      <td>0.000000</td>\n",
       "      <td>...</td>\n",
       "      <td>0</td>\n",
       "      <td>0</td>\n",
       "      <td>0</td>\n",
       "      <td>0.000000</td>\n",
       "      <td>0.125015</td>\n",
       "      <td>0.125015</td>\n",
       "      <td>0.416667</td>\n",
       "      <td>0.0</td>\n",
       "      <td>0.0</td>\n",
       "      <td>0.0</td>\n",
       "    </tr>\n",
       "    <tr>\n",
       "      <th>2540111</th>\n",
       "      <td>0.000772</td>\n",
       "      <td>0.788968</td>\n",
       "      <td>0.000007</td>\n",
       "      <td>1.000000</td>\n",
       "      <td>0.000008</td>\n",
       "      <td>0.000004</td>\n",
       "      <td>0.000003</td>\n",
       "      <td>0.001413</td>\n",
       "      <td>0.022418</td>\n",
       "      <td>0.007741</td>\n",
       "      <td>...</td>\n",
       "      <td>0</td>\n",
       "      <td>0</td>\n",
       "      <td>0</td>\n",
       "      <td>0.003289</td>\n",
       "      <td>0.000000</td>\n",
       "      <td>0.000000</td>\n",
       "      <td>0.166667</td>\n",
       "      <td>0.0</td>\n",
       "      <td>0.0</td>\n",
       "      <td>0.0</td>\n",
       "    </tr>\n",
       "    <tr>\n",
       "      <th>5945010</th>\n",
       "      <td>0.007718</td>\n",
       "      <td>0.762341</td>\n",
       "      <td>0.009087</td>\n",
       "      <td>0.352941</td>\n",
       "      <td>0.000039</td>\n",
       "      <td>0.000008</td>\n",
       "      <td>0.000000</td>\n",
       "      <td>0.000000</td>\n",
       "      <td>0.000000</td>\n",
       "      <td>0.000000</td>\n",
       "      <td>...</td>\n",
       "      <td>0</td>\n",
       "      <td>0</td>\n",
       "      <td>0</td>\n",
       "      <td>0.000000</td>\n",
       "      <td>0.003906</td>\n",
       "      <td>0.000000</td>\n",
       "      <td>0.416667</td>\n",
       "      <td>0.0</td>\n",
       "      <td>0.0</td>\n",
       "      <td>0.0</td>\n",
       "    </tr>\n",
       "  </tbody>\n",
       "</table>\n",
       "<p>5 rows × 44 columns</p>\n",
       "</div>"
      ],
      "text/plain": [
       "           Src IP  Src Port    Dst IP  Protocol  Flow Duration  Tot Fwd Pkts  \\\n",
       "1994346  0.007718  0.753155  0.663078  0.352941       0.458127      0.000008   \n",
       "5837974  0.000772  0.990326  0.000007  1.000000       0.000006      0.000004   \n",
       "1396364  0.000028  0.750896  0.006751  0.352941       0.000866      0.000012   \n",
       "2540111  0.000772  0.788968  0.000007  1.000000       0.000008      0.000004   \n",
       "5945010  0.007718  0.762341  0.009087  0.352941       0.000039      0.000008   \n",
       "\n",
       "         Tot Bwd Pkts  Fwd Pkt Len Max  Fwd Pkt Len Min  Fwd Pkt Len Mean  \\\n",
       "1994346      0.000000         0.000000         0.000000          0.000000   \n",
       "5837974      0.000003         0.001670         0.026495          0.009149   \n",
       "1396364      0.000003         0.000000         0.000000          0.000000   \n",
       "2540111      0.000003         0.001413         0.022418          0.007741   \n",
       "5945010      0.000000         0.000000         0.000000          0.000000   \n",
       "\n",
       "         ...  URG Flag Cnt  CWE Flag Count  ECE Flag Cnt  Down/Up Ratio  \\\n",
       "1994346  ...             0               0             0       0.000000   \n",
       "5837974  ...             0               0             0       0.003289   \n",
       "1396364  ...             0               0             0       0.000000   \n",
       "2540111  ...             0               0             0       0.003289   \n",
       "5945010  ...             0               0             0       0.000000   \n",
       "\n",
       "         Init Fwd Win Byts  Init Bwd Win Byts  Fwd Seg Size Min  Active Mean  \\\n",
       "1994346           0.034180           0.000000          0.416667          0.0   \n",
       "5837974           0.000000           0.000000          0.166667          0.0   \n",
       "1396364           0.125015           0.125015          0.416667          0.0   \n",
       "2540111           0.000000           0.000000          0.166667          0.0   \n",
       "5945010           0.003906           0.000000          0.416667          0.0   \n",
       "\n",
       "         Active Std  Idle Std  \n",
       "1994346         0.0       0.0  \n",
       "5837974         0.0       0.0  \n",
       "1396364         0.0       0.0  \n",
       "2540111         0.0       0.0  \n",
       "5945010         0.0       0.0  \n",
       "\n",
       "[5 rows x 44 columns]"
      ]
     },
     "execution_count": 86,
     "metadata": {},
     "output_type": "execute_result"
    }
   ],
   "source": [
    "X_train.head()"
   ]
  },
  {
   "cell_type": "code",
   "execution_count": null,
   "metadata": {},
   "outputs": [],
   "source": [
    "#for memory utilization lets delete the df now as its not needed\n",
    "#del final_data"
   ]
  },
  {
   "cell_type": "markdown",
   "metadata": {},
   "source": [
    "\n",
    "##We would try a few ML model and compare the F1 score and Confusion matrix to pick the best model \n",
    "1.Logistic Regression\n",
    "2.Decision Tree (Gini)\n",
    "3.Decision Tree (Entrophy)\n",
    "4.Random Forest ( Basic)\n",
    "5.Random Forest (Selected Features)\n",
    "\n"
   ]
  },
  {
   "cell_type": "markdown",
   "metadata": {},
   "source": [
    "# 1. Logistic regression to start "
   ]
  },
  {
   "cell_type": "code",
   "execution_count": 87,
   "metadata": {},
   "outputs": [],
   "source": [
    "from sklearn.linear_model import LogisticRegression\n",
    "from sklearn.metrics import f1_score\n",
    "from sklearn.metrics import plot_confusion_matrix\n",
    "from sklearn.metrics import precision_score\n",
    "from sklearn.metrics import recall_score\n",
    "from sklearn.metrics import accuracy_score\n",
    "from scipy.stats import randint"
   ]
  },
  {
   "cell_type": "code",
   "execution_count": 88,
   "metadata": {},
   "outputs": [],
   "source": [
    "# Creating a dictionary to store the model accuracy /F1/Recall and Precision score \n",
    "model_results ={}\n",
    "model_results['Logistic Regression'] ={}\n",
    "model_results['DecisionTree Gini'] ={}\n",
    "model_results['DecisionTree Ent.'] ={}\n",
    "model_results['RandomForest Basic'] ={}\n",
    "model_results['RandomForest Improved'] ={}"
   ]
  },
  {
   "cell_type": "code",
   "execution_count": 89,
   "metadata": {},
   "outputs": [],
   "source": [
    "## Initialize ,Fit and train the model\n",
    "logreg = LogisticRegression()\n",
    "logreg.fit(X_train,y_train)\n",
    "y_pred = logreg.predict(X_test)"
   ]
  },
  {
   "cell_type": "code",
   "execution_count": 90,
   "metadata": {},
   "outputs": [
    {
     "name": "stdout",
     "output_type": "stream",
     "text": [
      "Accuracy :  98.17980938776422\n",
      "Precision :  0.9490708904921191\n",
      "F1 Score  :  0.9462970387543748\n",
      "Recall :  0.9435393540512773\n",
      "{'Logistic Regression': {'Accuracy': 98.18, 'Precision': 0.949, 'Recall': 0.944, 'Fscore': 0.946}, 'DecisionTree Gini': {}, 'DecisionTree Ent.': {}, 'RandomForest Basic': {}, 'RandomForest Improved': {}}\n"
     ]
    }
   ],
   "source": [
    "#y_pred = logreg.predict(X_test) \n",
    "accuracy =  accuracy_score(y_test,y_pred)*100     \n",
    "print (\"Accuracy : \", accuracy) \n",
    "\n",
    "precision= precision_score(y_test, y_pred)\n",
    "print(\"Precision : \",precision )\n",
    "\n",
    "fscore = f1_score(y_test, y_pred)\n",
    "print(\"F1 Score  : \", fscore)\n",
    "\n",
    "recall = recall_score(y_test, y_pred)\n",
    "print(\"Recall : \", recall)\n",
    "\n",
    "#put data in dict \n",
    "model_results[\"Logistic Regression\"][\"Accuracy\"] = accuracy.round(3)\n",
    "model_results[\"Logistic Regression\"][\"Precision\"] = precision.round(3)\n",
    "model_results[\"Logistic Regression\"][\"Recall\"]= recall.round(3)\n",
    "model_results[\"Logistic Regression\"][\"Fscore\"]=fscore.round(3)\n",
    "\n",
    "print(model_results)"
   ]
  },
  {
   "cell_type": "code",
   "execution_count": 91,
   "metadata": {},
   "outputs": [],
   "source": [
    "#Save the model\n",
    "with open('LR.pkl', 'wb') as fp:\n",
    "    pickle.dump(logreg, fp, protocol=pickle.HIGHEST_PROTOCOL)"
   ]
  },
  {
   "cell_type": "code",
   "execution_count": 92,
   "metadata": {},
   "outputs": [
    {
     "data": {
      "image/png": "[encoded data removed]",
      "text/plain": [
       "<Figure size 432x288 with 2 Axes>"
      ]
     },
     "metadata": {
      "needs_background": "light"
     },
     "output_type": "display_data"
    }
   ],
   "source": [
    "# Plot the confusion matrix \n",
    "\n",
    "plot_confusion_matrix(logreg, X_test, y_test, values_format='')\n",
    "plt.show()"
   ]
  },
  {
   "cell_type": "markdown",
   "metadata": {},
   "source": [
    "# 2.  Decision tree Calssifier (Gini)"
   ]
  },
  {
   "cell_type": "code",
   "execution_count": 93,
   "metadata": {},
   "outputs": [
    {
     "data": {
      "text/plain": [
       "DecisionTreeClassifier(max_depth=3, min_samples_leaf=5, random_state=100)"
      ]
     },
     "execution_count": 93,
     "metadata": {},
     "output_type": "execute_result"
    }
   ],
   "source": [
    "## Decision tree using Gini\n",
    "clf_gini = DecisionTreeClassifier(criterion = \"gini\", \n",
    "            random_state = 100,max_depth=3, min_samples_leaf=5) \n",
    "clf_gini.fit(X_train, y_train)\n"
   ]
  },
  {
   "cell_type": "code",
   "execution_count": 94,
   "metadata": {},
   "outputs": [
    {
     "name": "stdout",
     "output_type": "stream",
     "text": [
      "Accuracy :  97.25116884242257\n",
      "Precision :  0.925436447106884\n",
      "F1 Score  :  0.918531373971987\n",
      "Recall :  0.9117285810294083\n",
      "{'Logistic Regression': {'Accuracy': 98.18, 'Precision': 0.949, 'Recall': 0.944, 'Fscore': 0.946}, 'DecisionTree Gini': {'Accuracy': 97.251, 'Precision': 0.925, 'Recall': 0.912, 'Fscore': 0.919}, 'DecisionTree Ent.': {}, 'RandomForest Basic': {}, 'RandomForest Improved': {}}\n"
     ]
    }
   ],
   "source": [
    "y_pred = clf_gini.predict(X_test) \n",
    "accuracy =  accuracy_score(y_test,y_pred)*100     \n",
    "print (\"Accuracy : \", accuracy) \n",
    "\n",
    "precision= precision_score(y_test, y_pred)\n",
    "print(\"Precision : \",precision )\n",
    "\n",
    "fscore = f1_score(y_test, y_pred)\n",
    "print(\"F1 Score  : \", fscore)\n",
    "\n",
    "recall = recall_score(y_test, y_pred)\n",
    "print(\"Recall : \", recall)\n",
    "\n",
    "#put data in dict \n",
    "model_results['DecisionTree Gini'][\"Accuracy\"] = accuracy.round(3)\n",
    "model_results['DecisionTree Gini'][\"Precision\"] = precision.round(3)\n",
    "model_results['DecisionTree Gini'][\"Recall\"]= recall.round(3)\n",
    "model_results['DecisionTree Gini'][\"Fscore\"]=fscore.round(3)\n",
    "\n",
    "print(model_results)"
   ]
  },
  {
   "cell_type": "code",
   "execution_count": 95,
   "metadata": {},
   "outputs": [],
   "source": [
    "#Save the model\n",
    "with open('DTR_GN.pkl', 'wb') as fp:\n",
    "    pickle.dump(clf_gini, fp, protocol=pickle.HIGHEST_PROTOCOL)"
   ]
  },
  {
   "cell_type": "code",
   "execution_count": 96,
   "metadata": {},
   "outputs": [
    {
     "data": {
      "image/png": "[encoded data removed]",
      "text/plain": [
       "<Figure size 432x288 with 2 Axes>"
      ]
     },
     "metadata": {
      "needs_background": "light"
     },
     "output_type": "display_data"
    }
   ],
   "source": [
    "# Plot the confusion matrix \n",
    "\n",
    "plot_confusion_matrix(clf_gini, X_test, y_test, values_format='')\n",
    "plt.show()"
   ]
  },
  {
   "cell_type": "markdown",
   "metadata": {},
   "source": [
    "## 3. Decision Tree using entropy"
   ]
  },
  {
   "cell_type": "code",
   "execution_count": 97,
   "metadata": {},
   "outputs": [
    {
     "data": {
      "text/plain": [
       "DecisionTreeClassifier(criterion='entropy', max_depth=3, min_samples_leaf=5,\n",
       "                       random_state=100)"
      ]
     },
     "execution_count": 97,
     "metadata": {},
     "output_type": "execute_result"
    }
   ],
   "source": [
    "## Decision tree using entropy\n",
    "clf_entropy = DecisionTreeClassifier( \n",
    "            criterion = \"entropy\", random_state = 100, \n",
    "            max_depth = 3, min_samples_leaf = 5) \n",
    "  \n",
    "    # Performing training \n",
    "clf_entropy.fit(X_train, y_train) "
   ]
  },
  {
   "cell_type": "code",
   "execution_count": 98,
   "metadata": {},
   "outputs": [
    {
     "name": "stdout",
     "output_type": "stream",
     "text": [
      "Accuracy :  96.83956300195233\n",
      "Precision :  0.9484567231378757\n",
      "F1 Score  :  0.9025234210648865\n",
      "Recall :  0.8608336616378145\n",
      "{'Logistic Regression': {'Accuracy': 98.18, 'Precision': 0.949, 'Recall': 0.944, 'Fscore': 0.946}, 'DecisionTree Gini': {'Accuracy': 97.251, 'Precision': 0.925, 'Recall': 0.912, 'Fscore': 0.919}, 'DecisionTree Ent.': {'Accuracy': 96.84, 'Precision': 0.948, 'Recall': 0.861, 'Fscore': 0.903}, 'RandomForest Basic': {}, 'RandomForest Improved': {}}\n"
     ]
    }
   ],
   "source": [
    "y_pred = clf_entropy.predict(X_test) \n",
    "accuracy =  accuracy_score(y_test,y_pred)*100     \n",
    "print (\"Accuracy : \", accuracy) \n",
    "\n",
    "precision= precision_score(y_test, y_pred)\n",
    "print(\"Precision : \",precision )\n",
    "\n",
    "fscore = f1_score(y_test, y_pred)\n",
    "print(\"F1 Score  : \", fscore)\n",
    "\n",
    "recall = recall_score(y_test, y_pred)\n",
    "print(\"Recall : \", recall)\n",
    "\n",
    "#put data in dict \n",
    "model_results['DecisionTree Ent.'][\"Accuracy\"] = accuracy.round(3)\n",
    "model_results['DecisionTree Ent.'][\"Precision\"] = precision.round(3)\n",
    "model_results['DecisionTree Ent.'][\"Recall\"]= recall.round(3)\n",
    "model_results['DecisionTree Ent.'][\"Fscore\"]=fscore.round(3)\n",
    "\n",
    "print(model_results)"
   ]
  },
  {
   "cell_type": "code",
   "execution_count": 99,
   "metadata": {},
   "outputs": [],
   "source": [
    "#Save the model\n",
    "with open('DTR_entro.pkl', 'wb') as fp:\n",
    "    pickle.dump(clf_entropy, fp, protocol=pickle.HIGHEST_PROTOCOL)"
   ]
  },
  {
   "cell_type": "code",
   "execution_count": 100,
   "metadata": {},
   "outputs": [
    {
     "data": {
      "image/png": "[encoded data removed]",
      "text/plain": [
       "<Figure size 432x288 with 2 Axes>"
      ]
     },
     "metadata": {
      "needs_background": "light"
     },
     "output_type": "display_data"
    }
   ],
   "source": [
    "# Plot the confusion matrix \n",
    "\n",
    "plot_confusion_matrix(clf_entropy, X_test, y_test, values_format='')\n",
    "plt.show()"
   ]
  },
  {
   "cell_type": "markdown",
   "metadata": {},
   "source": [
    "## 4. Random Forest Classifier  (Basic)"
   ]
  },
  {
   "cell_type": "code",
   "execution_count": 101,
   "metadata": {},
   "outputs": [
    {
     "data": {
      "text/plain": [
       "RandomForestClassifier(max_depth=3, n_estimators=20, random_state=1)"
      ]
     },
     "execution_count": 101,
     "metadata": {},
     "output_type": "execute_result"
    }
   ],
   "source": [
    "##random forest using Ginni\n",
    "\n",
    "model_RF = RandomForestClassifier(n_estimators=20 , criterion = \"gini\", \n",
    "            random_state = 1,max_depth=3) \n",
    "model_RF.fit(X_train, y_train)"
   ]
  },
  {
   "cell_type": "code",
   "execution_count": 102,
   "metadata": {},
   "outputs": [
    {
     "name": "stdout",
     "output_type": "stream",
     "text": [
      "Accuracy :  97.08042134783517\n",
      "Precision :  0.9222299234428657\n",
      "F1 Score  :  0.9132779807891052\n",
      "Recall :  0.9044981576324999\n",
      "{'Logistic Regression': {'Accuracy': 98.18, 'Precision': 0.949, 'Recall': 0.944, 'Fscore': 0.946}, 'DecisionTree Gini': {'Accuracy': 97.251, 'Precision': 0.925, 'Recall': 0.912, 'Fscore': 0.919}, 'DecisionTree Ent.': {'Accuracy': 96.84, 'Precision': 0.948, 'Recall': 0.861, 'Fscore': 0.903}, 'RandomForest Basic': {'Accuracy': 97.08, 'Precision': 0.922, 'Recall': 0.904, 'Fscore': 0.913}, 'RandomForest Improved': {}}\n"
     ]
    }
   ],
   "source": [
    "y_pred = model_RF.predict(X_test) \n",
    "accuracy =  accuracy_score(y_test,y_pred)*100     \n",
    "print (\"Accuracy : \", accuracy) \n",
    "\n",
    "precision= precision_score(y_test, y_pred)\n",
    "print(\"Precision : \",precision )\n",
    "\n",
    "fscore = f1_score(y_test, y_pred)\n",
    "print(\"F1 Score  : \", fscore)\n",
    "\n",
    "recall = recall_score(y_test, y_pred)\n",
    "print(\"Recall : \", recall)\n",
    "\n",
    "#put data in dict \n",
    "model_results['RandomForest Basic'][\"Accuracy\"] = accuracy.round(3)\n",
    "model_results['RandomForest Basic'][\"Precision\"] = precision.round(3)\n",
    "model_results['RandomForest Basic'][\"Recall\"]= recall.round(3)\n",
    "model_results['RandomForest Basic'][\"Fscore\"]=fscore.round(3)\n",
    "\n",
    "print(model_results)"
   ]
  },
  {
   "cell_type": "code",
   "execution_count": 103,
   "metadata": {},
   "outputs": [],
   "source": [
    "#Save the model\n",
    "with open('radomF_Basic.pkl', 'wb') as fp:\n",
    "    pickle.dump(model_RF, fp, protocol=pickle.HIGHEST_PROTOCOL)"
   ]
  },
  {
   "cell_type": "code",
   "execution_count": 104,
   "metadata": {
    "scrolled": true
   },
   "outputs": [
    {
     "data": {
      "image/png": "[encoded data removed]",
      "text/plain": [
       "<Figure size 432x288 with 2 Axes>"
      ]
     },
     "metadata": {
      "needs_background": "light"
     },
     "output_type": "display_data"
    }
   ],
   "source": [
    "# Plot the confusion matrix \n",
    "\n",
    "plot_confusion_matrix(model_RF, X_test, y_test, values_format='')\n",
    "plt.show()"
   ]
  },
  {
   "cell_type": "markdown",
   "metadata": {},
   "source": [
    "## 5 Random Forest with best Selected Features "
   ]
  },
  {
   "cell_type": "code",
   "execution_count": 105,
   "metadata": {},
   "outputs": [
    {
     "data": {
      "text/plain": [
       "RandomForestClassifier(max_features='log2', n_estimators=50, oob_score=True,\n",
       "                       random_state=1)"
      ]
     },
     "execution_count": 105,
     "metadata": {},
     "output_type": "execute_result"
    }
   ],
   "source": [
    "##random forest using Ginni\n",
    "\n",
    "rfclass = RandomForestClassifier(n_estimators=50, max_features=\"log2\", oob_score=True, random_state=1)\n",
    "rfclass.fit(X_train, y_train)"
   ]
  },
  {
   "cell_type": "code",
   "execution_count": 106,
   "metadata": {},
   "outputs": [
    {
     "name": "stdout",
     "output_type": "stream",
     "text": [
      "(6093207, 13)\n",
      "(6093207, 22)\n"
     ]
    }
   ],
   "source": [
    "from sklearn.feature_selection import SelectFromModel\n",
    "\n",
    "print(SelectFromModel(rfclass, threshold='mean', prefit=True).transform(X_train).shape)\n",
    "print(SelectFromModel(rfclass, threshold='median', prefit=True).transform(X_train).shape)"
   ]
  },
  {
   "cell_type": "code",
   "execution_count": 107,
   "metadata": {
    "scrolled": true
   },
   "outputs": [],
   "source": [
    "feature_df = pd.DataFrame({'feature':feature_cols, 'importance':rfclass.feature_importances_}).sort_values(by='importance',ascending = False)"
   ]
  },
  {
   "cell_type": "code",
   "execution_count": 108,
   "metadata": {},
   "outputs": [
    {
     "data": {
      "text/plain": [
       "<matplotlib.axes._subplots.AxesSubplot at 0x7f9fa08609d0>"
      ]
     },
     "execution_count": 108,
     "metadata": {},
     "output_type": "execute_result"
    },
    {
     "data": {
      "image/png": "[encoded data removed]",
      "text/plain": [
       "<Figure size 432x288 with 1 Axes>"
      ]
     },
     "metadata": {
      "needs_background": "light"
     },
     "output_type": "display_data"
    }
   ],
   "source": [
    "#lets plot \n",
    "feature_df.plot(kind='bar')"
   ]
  },
  {
   "cell_type": "code",
   "execution_count": 109,
   "metadata": {},
   "outputs": [
    {
     "name": "stdout",
     "output_type": "stream",
     "text": [
      "Accuracy :  99.99914659076138\n",
      "Precision :  1.0\n",
      "F1 Score  :  0.9999748937328964\n",
      "Recall :  0.9999497887264104\n",
      "{'Logistic Regression': {'Accuracy': 98.18, 'Precision': 0.949, 'Recall': 0.944, 'Fscore': 0.946}, 'DecisionTree Gini': {'Accuracy': 97.251, 'Precision': 0.925, 'Recall': 0.912, 'Fscore': 0.919}, 'DecisionTree Ent.': {'Accuracy': 96.84, 'Precision': 0.948, 'Recall': 0.861, 'Fscore': 0.903}, 'RandomForest Basic': {'Accuracy': 97.08, 'Precision': 0.922, 'Recall': 0.904, 'Fscore': 0.913}, 'RandomForest Improved': {'Accuracy': 99.999, 'Precision': 1.0, 'Recall': 1.0, 'Fscore': 1.0}}\n"
     ]
    }
   ],
   "source": [
    "y_pred = rfclass.predict(X_test) \n",
    "accuracy =  accuracy_score(y_test,y_pred)*100     \n",
    "print (\"Accuracy : \", accuracy) \n",
    "\n",
    "precision= precision_score(y_test, y_pred)\n",
    "print(\"Precision : \",precision )\n",
    "\n",
    "fscore = f1_score(y_test, y_pred)\n",
    "print(\"F1 Score  : \", fscore)\n",
    "\n",
    "recall = recall_score(y_test, y_pred)\n",
    "print(\"Recall : \", recall)\n",
    "\n",
    "#put data in dict \n",
    "model_results['RandomForest Improved'][\"Accuracy\"] = accuracy.round(3)\n",
    "model_results['RandomForest Improved'][\"Precision\"] = precision.round(3)\n",
    "model_results['RandomForest Improved'][\"Recall\"]= recall.round(3)\n",
    "model_results['RandomForest Improved'][\"Fscore\"]=fscore.round(3)\n",
    "\n",
    "print(model_results)"
   ]
  },
  {
   "cell_type": "code",
   "execution_count": 110,
   "metadata": {},
   "outputs": [],
   "source": [
    "#Save the model\n",
    "with open('rfclass.pkl', 'wb') as fp:\n",
    "    pickle.dump(rfclass, fp, protocol=pickle.HIGHEST_PROTOCOL)"
   ]
  },
  {
   "cell_type": "code",
   "execution_count": 111,
   "metadata": {},
   "outputs": [
    {
     "data": {
      "image/png": "[encoded data removed]",
      "text/plain": [
       "<Figure size 432x288 with 2 Axes>"
      ]
     },
     "metadata": {
      "needs_background": "light"
     },
     "output_type": "display_data"
    }
   ],
   "source": [
    "plot_confusion_matrix(rfclass, X_test, y_test, values_format='')\n",
    "plt.show()"
   ]
  },
  {
   "cell_type": "code",
   "execution_count": 112,
   "metadata": {},
   "outputs": [
    {
     "name": "stdout",
     "output_type": "stream",
     "text": [
      "{'Logistic Regression': {'Accuracy': 98.18, 'Precision': 0.949, 'Recall': 0.944, 'Fscore': 0.946}, 'DecisionTree Gini': {'Accuracy': 97.251, 'Precision': 0.925, 'Recall': 0.912, 'Fscore': 0.919}, 'DecisionTree Ent.': {'Accuracy': 96.84, 'Precision': 0.948, 'Recall': 0.861, 'Fscore': 0.903}, 'RandomForest Basic': {'Accuracy': 97.08, 'Precision': 0.922, 'Recall': 0.904, 'Fscore': 0.913}, 'RandomForest Improved': {'Accuracy': 99.999, 'Precision': 1.0, 'Recall': 1.0, 'Fscore': 1.0}}\n"
     ]
    }
   ],
   "source": [
    "#print all models results \n",
    "print(model_results)"
   ]
  },
  {
   "cell_type": "code",
   "execution_count": 113,
   "metadata": {},
   "outputs": [],
   "source": [
    "results_df = pd.DataFrame.from_dict(model_results)"
   ]
  },
  {
   "cell_type": "code",
   "execution_count": 116,
   "metadata": {},
   "outputs": [
    {
     "name": "stdout",
     "output_type": "stream",
     "text": [
      "*** Metrics and scores comparision of all models tried ****\n",
      "\n",
      "           Logistic Regression  DecisionTree Gini  DecisionTree Ent.  \\\n",
      "Accuracy                98.180             97.251             96.840   \n",
      "Precision                0.949              0.925              0.948   \n",
      "Recall                   0.944              0.912              0.861   \n",
      "Fscore                   0.946              0.919              0.903   \n",
      "\n",
      "           RandomForest Basic  RandomForest Improved  \n",
      "Accuracy               97.080                 99.999  \n",
      "Precision               0.922                  1.000  \n",
      "Recall                  0.904                  1.000  \n",
      "Fscore                  0.913                  1.000  \n"
     ]
    }
   ],
   "source": [
    "print(\"*** Metrics and scores comparision of all models tried ****\\n\")\n",
    "print(results_df)\n"
   ]
  },
  {
   "cell_type": "markdown",
   "metadata": {},
   "source": [
    "# Results and observations\n",
    "1. Out of all Classifier model Random forest models comes best In precision /Recall and acuracy.\n",
    "2. We may have to do some feature tuning and more random selection to avoid over fitting of data .\n",
    "3. Further research can be done to select  different feature set and see more correlations "
   ]
  }
 ],
 "metadata": {
  "kernelspec": {
   "display_name": "Python 3",
   "language": "python",
   "name": "python3"
  },
  "language_info": {
   "codemirror_mode": {
    "name": "ipython",
    "version": 3
   },
   "file_extension": ".py",
   "mimetype": "text/x-python",
   "name": "python",
   "nbconvert_exporter": "python",
   "pygments_lexer": "ipython3",
   "version": "3.8.3"
  }
 },
 "nbformat": 4,
 "nbformat_minor": 4
}
